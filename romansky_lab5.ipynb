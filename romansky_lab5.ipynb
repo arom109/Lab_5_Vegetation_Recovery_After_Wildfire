{
 "cells": [
  {
   "cell_type": "code",
   "execution_count": 55,
   "metadata": {},
   "outputs": [],
   "source": [
    "import glob\n",
    "import pandas as pd\n",
    "import geopandas as gpd\n",
    "import numpy as np\n",
    "import rasterio\n",
    "from rasterio.plot import show\n",
    "from scipy import ndimage\n",
    "from matplotlib import pyplot\n",
    "from math import pi"
   ]
  },
  {
   "cell_type": "code",
   "execution_count": 56,
   "metadata": {},
   "outputs": [],
   "source": [
    "#Slope and Aspect Function\n",
    "def slopeAspect(dem, cs):\n",
    "    \"\"\"Calculates slope and aspect using the 3rd-order finite difference method\n",
    "    Parameters\n",
    "    ----------\n",
    "    dem : numpy array\n",
    "        A numpy array of a DEM\n",
    "    cs : float\n",
    "        The cell size of the original DEM\n",
    "    Returns\n",
    "    -------\n",
    "    numpy arrays\n",
    "        Slope and Aspect arrays\n",
    "    \"\"\"\n",
    "    kernel = np.array([[-1, 0, 1], [-2, 0, 2], [-1, 0, 1]])\n",
    "    dzdx = ndimage.convolve(dem, kernel, mode='mirror') / (8 * cs)\n",
    "    dzdy = ndimage.convolve(dem, kernel.T, mode='mirror') / (8 * cs)\n",
    "    slp = np.arctan((dzdx ** 2 + dzdy ** 2) ** 0.5) * 180 / pi\n",
    "    ang = np.arctan2(-dzdy, dzdx) * 180 / pi\n",
    "    aspect = np.where(ang > 90, 450 - ang, 90 - ang)\n",
    "    return slp, aspect"
   ]
  },
  {
   "cell_type": "code",
   "execution_count": 57,
   "metadata": {},
   "outputs": [],
   "source": [
    "#Reclassify Aspect\n",
    "def reclassAspect(npArray):\n",
    "    \"\"\"Reclassify aspect array to 8 cardinal directions (N,NE,E,SE,S,SW,W,NW),\n",
    "    encoded 1 to 8, respectively (same as ArcGIS aspect classes).\n",
    "    Parameters\n",
    "    ----------\n",
    "    npArray : numpy array\n",
    "        numpy array with aspect values 0 to 360\n",
    "    Returns\n",
    "    -------\n",
    "    numpy array\n",
    "        numpy array with cardinal directions\n",
    "    \"\"\"\n",
    "    return np.where((npArray > 22.5) & (npArray <= 67.5), 2,\n",
    "    np.where((npArray > 67.5) & (npArray <= 112.5), 3,\n",
    "    np.where((npArray > 112.5) & (npArray <= 157.5), 4,\n",
    "    np.where((npArray > 157.5) & (npArray <= 202.5), 5,\n",
    "    np.where((npArray > 202.5) & (npArray <= 247.5), 6,\n",
    "    np.where((npArray > 247.5) & (npArray <= 292.5), 7,\n",
    "    np.where((npArray > 292.5) & (npArray <= 337.5), 8, 1)))))))"
   ]
  },
  {
   "cell_type": "code",
   "execution_count": 58,
   "metadata": {},
   "outputs": [],
   "source": [
    "#Reclass array function\n",
    "def reclassByHisto(npArray, bins):\n",
    "    \"\"\"Reclassify np array based on a histogram approach using a specified\n",
    "    number of bins. Returns the reclassified numpy array and the classes from\n",
    "    the histogram.\n",
    "    Parameters\n",
    "    ----------\n",
    "    npArray : numpy array\n",
    "        Array to be reclassified\n",
    "    bins : int\n",
    "        Number of bins\n",
    "    Returns\n",
    "    -------\n",
    "    numpy array\n",
    "        umpy array with reclassified values\n",
    "    \"\"\"\n",
    "    histo = np.histogram(npArray, bins)[1]\n",
    "    rClss = np.zeros_like(npArray)\n",
    "    for i in range(bins):\n",
    "        rClss = np.where((npArray >= histo[i]) & (npArray <= histo[i + 1]),\n",
    "                         i + 1, rClss)\n",
    "    return rClss\n"
   ]
  },
  {
   "cell_type": "code",
   "execution_count": 59,
   "metadata": {},
   "outputs": [
    {
     "name": "stdout",
     "output_type": "stream",
     "text": [
      "The coefficient of recovery across all years was 0.021795632717297512\n",
      "The recovery ratio for 2002 was 0.41127\n",
      "The recovery ratio for 2003 was 0.54127\n",
      "The recovery ratio for 2004 was 0.51346\n",
      "The recovery ratio for 2005 was 0.61525\n",
      "The recovery ratio for 2006 was 0.71617\n",
      "The recovery ratio for 2007 was 0.70541\n",
      "The recovery ratio for 2008 was 0.73951\n",
      "The recovery ratio for 2009 was 0.71263\n",
      "The recovery ratio for 2010 was 0.5851\n",
      "The recovery ratio for 2011 was 0.62589\n"
     ]
    }
   ],
   "source": [
    "#Open rasters, define variables\n",
    "Elk_dem = rasterio.open(r'C:\\Users\\arom\\Documents\\School\\Grad School\\Fall 2020\\Automation\\lab5\\data\\data\\bigElk_dem.tif')\n",
    "fire_perimeter = rasterio.open(r'C:\\Users\\arom\\Documents\\School\\Grad School\\Fall 2020\\Automation\\lab5\\data\\data\\fire_perimeter.tif')\n",
    "forest_files = glob.glob(r'C:\\Users\\arom\\Documents\\School\\Grad School\\Fall 2020\\Automation\\lab5\\data\\data\\L5_big_elk\\*tif')\n",
    "\n",
    "#Create arrays\n",
    "dem_array = Elk_dem.read(1)\n",
    "fire_array = fire_perimeter.read(1)\n",
    "\n",
    "#Apply the given functions\n",
    "slope, aspect = slopeAspect(dem_array, 30)\n",
    "aspect_reclass = reclassAspect(aspect)\n",
    "slope_reclass = reclassByHisto(slope, 10)\n",
    "\n",
    "#Define red and infrared bands\n",
    "red = glob.glob(r'C:\\Users\\arom\\Documents\\School\\Grad School\\Fall 2020\\Automation\\lab5\\data\\data\\L5_big_elk\\*B3.tif')\n",
    "nir = glob.glob(r'C:\\Users\\arom\\Documents\\School\\Grad School\\Fall 2020\\Automation\\lab5\\data\\data\\L5_big_elk\\*B4.tif')\n",
    "healthy = np.where(fire_array == 2)\n",
    "burned = np.where(fire_array ==1)\n",
    "\n",
    "#Create empty lists \n",
    "means = []\n",
    "rr = []\n",
    "years = ['2002', '2003', '2004', '2005', '2006', '2007', '2008', '2009', '2010', '2011']\n",
    "\n",
    "#Part I\n",
    "for x,y in zip(red, nir):\n",
    "    red = rasterio.open(x,'r').read(1)\n",
    "    nir = rasterio.open(y,'r').read(1)\n",
    "    ndvi = ((nir-red)/(nir+red))\n",
    "    ndvi_mean = ndvi[healthy].mean()\n",
    "    recovery_ratio = ndvi/ndvi_mean\n",
    "    burn_mean = recovery_ratio[burned].mean()\n",
    "    means.append(burn_mean)\n",
    "    flat = recovery_ratio.ravel()\n",
    "    rr.append(flat)\n",
    "stacked_rr = np.vstack(rr)\n",
    "line = np.polyfit(range(10), stacked_rr, 1)[0]\n",
    "line_reshape = line.reshape(280, 459)\n",
    "final_coefficient = np.where(fire_array==1, line_reshape, np.nan)\n",
    "print('The coefficient of recovery across all years was', np.nanmean(final_coefficient))\n",
    "for y,z in zip(years, means):\n",
    "    print('The recovery ratio for', y, 'was', round(np.nanmean(z),5))"
   ]
  },
  {
   "cell_type": "code",
   "execution_count": 60,
   "metadata": {},
   "outputs": [],
   "source": [
    "#Part II\n",
    "#Zonal stats function, slope and aspect csv files.\n",
    "def zonal_stats_as_table(zone_raster, value_raster, output_csv):\n",
    "    mean_stats = []\n",
    "    st_dev = []\n",
    "    mins = []\n",
    "    maxs = []\n",
    "    counts = []\n",
    "    for i in np.unique(zone_raster):\n",
    "        zone = np.where(zone_raster == i, i, np.nan)\n",
    "        mean_stats.append(np.nanmean(zone * value_raster))\n",
    "        st_dev.append(np.nanstd(zone * value_raster))\n",
    "        mins.append(np.nanmin(zone * value_raster))\n",
    "        maxs.append(np.nanmax(zone * value_raster))\n",
    "        counts.append(np.where(zone_raster == i, 1, 0 ).sum())\n",
    "    zonal_stats = {'Mean': mean_stats, 'Std. Dev.': st_dev, 'Min': mins, 'Max': maxs, 'Count': counts}\n",
    "    df=pd.DataFrame(zonal_stats)\n",
    "    df.to_csv(output_csv)\n",
    "    return df\n",
    "zonal_stats_as_table(slope_reclass, mean_coeficient, 'slope.csv')\n",
    "zonal_stats_as_table(aspect_reclass, mean_coeficient, 'aspect.csv')\n",
    "\n",
    "#Export tif\n",
    "with rasterio.open(r'C:\\Users\\arom\\Documents\\School\\Grad School\\Fall 2020\\Automation\\lab5\\data\\data\\bigElk_dem.tif') as dataset:\n",
    "    with rasterio.open(f'final_coefficient.tif' , 'w',\n",
    "                          driver='GTiff',\n",
    "                          height=final_coefficient.shape[0],\n",
    "                          width=final_coefficient.shape[1],\n",
    "                          count=1,\n",
    "                          dtype=final_coefficient.dtype,\n",
    "                          crs=dataset.crs,\n",
    "                            transform=dataset.transform,\n",
    "                          nodta=dataset.nodata\n",
    "                          ) as out_dataset:\n",
    "        out_dataset.write(final_coefficient,1)"
   ]
  },
  {
   "cell_type": "code",
   "execution_count": 61,
   "metadata": {},
   "outputs": [
    {
     "data": {
      "text/plain": [
       "array([[nan, nan, nan, ..., nan, nan, nan],\n",
       "       [nan, nan, nan, ..., nan, nan, nan],\n",
       "       [nan, nan, nan, ..., nan, nan, nan],\n",
       "       ...,\n",
       "       [nan, nan, nan, ..., nan, nan, nan],\n",
       "       [nan, nan, nan, ..., nan, nan, nan],\n",
       "       [nan, nan, nan, ..., nan, nan, nan]])"
      ]
     },
     "execution_count": 61,
     "metadata": {},
     "output_type": "execute_result"
    }
   ],
   "source": [
    "final_coefficient"
   ]
  },
  {
   "cell_type": "code",
   "execution_count": 62,
   "metadata": {},
   "outputs": [
    {
     "data": {
      "image/png": "[encoded data removed]",
      "text/plain": [
       "<Figure size 432x288 with 1 Axes>"
      ]
     },
     "metadata": {
      "needs_background": "light"
     },
     "output_type": "display_data"
    },
    {
     "data": {
      "text/plain": [
       "<AxesSubplot:>"
      ]
     },
     "execution_count": 62,
     "metadata": {},
     "output_type": "execute_result"
    }
   ],
   "source": [
    "with rasterio.open(r'C:\\Users\\arom\\Documents\\School\\Grad School\\Fall 2020\\Automation\\lab5\\final_coefficient.tif') as dataset2:\n",
    "    final_tif = dataset2.read(1)\n",
    "\n",
    "show(final_tif)"
   ]
  },
  {
   "cell_type": "code",
   "execution_count": 63,
   "metadata": {},
   "outputs": [
    {
     "name": "stdout",
     "output_type": "stream",
     "text": [
      "Based on the aspect csv generated, the more S and SE aspects saw better recovery. In addition, the lower the slope, the better the recovery\n"
     ]
    }
   ],
   "source": [
    "print('Based on the aspect csv generated, the more S and SE aspects saw better recovery. In addition, the lower the slope, the better the recovery')"
   ]
  },
  {
   "cell_type": "code",
   "execution_count": null,
   "metadata": {},
   "outputs": [],
   "source": []
  }
 ],
 "metadata": {
  "kernelspec": {
   "display_name": "Python 3",
   "language": "python",
   "name": "python3"
  },
  "language_info": {
   "codemirror_mode": {
    "name": "ipython",
    "version": 3
   },
   "file_extension": ".py",
   "mimetype": "text/x-python",
   "name": "python",
   "nbconvert_exporter": "python",
   "pygments_lexer": "ipython3",
   "version": "3.7.8"
  }
 },
 "nbformat": 4,
 "nbformat_minor": 4
}
